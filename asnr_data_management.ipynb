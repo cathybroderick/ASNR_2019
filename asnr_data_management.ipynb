{
 "cells": [
  {
   "cell_type": "code",
   "execution_count": null,
   "metadata": {},
   "outputs": [],
   "source": [
    "# ASNR Reliablility and Reproducibility in Neurorehabilitation Research\n",
    "# Data Management Workshop\n",
    "# Sook-Lei Liew, PhD, OTR/L\n",
    "# sliew@usc.edu"
   ]
  },
  {
   "cell_type": "code",
   "execution_count": null,
   "metadata": {},
   "outputs": [],
   "source": [
    "# jupyter notebook shortcuts: http://maxmelnick.com/2016/04/19/python-beginner-tips-and-tricks.html\n",
    "# press \"escape\" to move from edit to command mode (green to blue cells)\n",
    "# press \"shift + enter\" to execute sections\n",
    "# pandas quick review: https://towardsdatascience.com/a-quick-introduction-to-the-pandas-python-library-f1b678f34673"
   ]
  },
  {
   "cell_type": "code",
   "execution_count": null,
   "metadata": {},
   "outputs": [],
   "source": [
    "# if errors, google how to install the libraries below (e.g., \"install os\" or \"install pandas\" or \"install numpy\")\n",
    "import pandas as pd\n",
    "import numpy as np\n",
    "import os"
   ]
  },
  {
   "cell_type": "code",
   "execution_count": null,
   "metadata": {},
   "outputs": [],
   "source": [
    "# initialize directories, variables\n",
    "\n",
    "#rootdir='/Users/sliew/data/20191016_asnr/'\n",
    "db_file='ATLAS_data.csv'"
   ]
  },
  {
   "cell_type": "markdown",
   "metadata": {},
   "source": [
    "# Review Data Quality"
   ]
  },
  {
   "cell_type": "code",
   "execution_count": null,
   "metadata": {},
   "outputs": [],
   "source": [
    "#change directory to root dir\n",
    "#os.chdir(rootdir)\n",
    "df = pd.read_csv(db_file)"
   ]
  },
  {
   "cell_type": "code",
   "execution_count": null,
   "metadata": {},
   "outputs": [],
   "source": [
    "#print dimensions of dataframe (check rows and columns)\n",
    "print(df.shape)"
   ]
  },
  {
   "cell_type": "code",
   "execution_count": null,
   "metadata": {},
   "outputs": [],
   "source": [
    "#do a basic check of data columns and values\n",
    "df.head(5)"
   ]
  },
  {
   "cell_type": "code",
   "execution_count": null,
   "metadata": {},
   "outputs": [],
   "source": [
    "# examine basic data stats\n",
    "df.describe()"
   ]
  },
  {
   "cell_type": "code",
   "execution_count": null,
   "metadata": {},
   "outputs": [],
   "source": [
    "#check for missing values\n",
    "df.isnull().sum()"
   ]
  },
  {
   "cell_type": "code",
   "execution_count": null,
   "metadata": {},
   "outputs": [],
   "source": [
    "#drop missing values for important colunns\n",
    "df=df.dropna(subset=['Stroke_type'])"
   ]
  },
  {
   "cell_type": "code",
   "execution_count": null,
   "metadata": {},
   "outputs": [],
   "source": [
    "#fill remaining missing values with 'NA'\n",
    "df=df.fillna('NA')"
   ]
  },
  {
   "cell_type": "code",
   "execution_count": null,
   "metadata": {},
   "outputs": [],
   "source": [
    "#removing duplicate columns\n",
    "df=df.loc[:,~df.columns.duplicated()]"
   ]
  },
  {
   "cell_type": "code",
   "execution_count": null,
   "metadata": {},
   "outputs": [],
   "source": [
    "#sort the data by a column's value\n",
    "df=df.sort_values(by=['INDI_Subject_ID'])"
   ]
  },
  {
   "cell_type": "code",
   "execution_count": null,
   "metadata": {},
   "outputs": [],
   "source": [
    "#renaming columns \n",
    "df.rename(columns={'Primary_Stroke_Location_Hemisphere':'Lesion_Hemisphere'}, inplace=True)\n",
    "df.head(5)"
   ]
  },
  {
   "cell_type": "code",
   "execution_count": null,
   "metadata": {},
   "outputs": [],
   "source": [
    "#reformatting column values (e.g., r001 as string to 1 as integer)\n",
    "df['SITE_ID']=df['INDI_Site_ID'].apply(lambda x: (x[4:]))\n",
    "df['SITE_ID']=pd.to_numeric(df['SITE_ID'])\n",
    "df.head(5)"
   ]
  },
  {
   "cell_type": "code",
   "execution_count": null,
   "metadata": {},
   "outputs": [],
   "source": [
    "#check shape of dataframe\n",
    "print(df.shape)"
   ]
  },
  {
   "cell_type": "code",
   "execution_count": null,
   "metadata": {},
   "outputs": [],
   "source": [
    "#check out changes\n",
    "df.head(5)"
   ]
  },
  {
   "cell_type": "code",
   "execution_count": null,
   "metadata": {},
   "outputs": [],
   "source": [
    "# save dataframe to csv (can be read in Matlab or R)\n",
    "df.to_csv(rootdir+'ATLAS_data_reformatted.csv', index=False)"
   ]
  },
  {
   "cell_type": "code",
   "execution_count": null,
   "metadata": {},
   "outputs": [],
   "source": []
  },
  {
   "cell_type": "code",
   "execution_count": null,
   "metadata": {},
   "outputs": [],
   "source": [
    "# other data scrubbing quick tips\n",
    "\n",
    "# checking for null values\n",
    "pd.isnull()\n",
    "pd.isnull().sum()  #gives sum of all null cells\n",
    "\n",
    "# drop values\n",
    "df.dropna() to drop the rows or df.dropna(axis=1)\n",
    "\n",
    "# replace null values with NA\n",
    "df.fillna(x)\n",
    "\n",
    "# replace null values with mean value\n",
    "s.fillna(s.mean())\n",
    "\n",
    "# replacing data\n",
    "s.replace([1,3],['one','three'])\n",
    "\n",
    "# change index in data frame\n",
    "df.set_index('column_one')\n"
   ]
  },
  {
   "cell_type": "code",
   "execution_count": null,
   "metadata": {},
   "outputs": [],
   "source": [
    "# can also write short functions to do things, like merge files based on one common column and output to a csv\n",
    "\n",
    "def combine_csvs(file1,file2,matchid,outfile):    \n",
    "    df1 = pd.read_csv(file1)\n",
    "    df2 = pd.read_csv(file2)\n",
    "    output = pd.merge(df1, df2, how=\"inner\", on=matchid) # matchid should be column name common in both dataframes\n",
    "    final_output = output.drop_duplicates() # remove duplicate rows \n",
    "    final_output.to_csv(rootdir+outfile, index=False)\n",
    "    return final_output"
   ]
  }
 ],
 "metadata": {
  "kernelspec": {
   "display_name": "Python 3",
   "language": "python",
   "name": "python3"
  },
  "language_info": {
   "codemirror_mode": {
    "name": "ipython",
    "version": 3
   },
   "file_extension": ".py",
   "mimetype": "text/x-python",
   "name": "python",
   "nbconvert_exporter": "python",
   "pygments_lexer": "ipython3",
   "version": "3.7.3"
  }
 },
 "nbformat": 4,
 "nbformat_minor": 2
}
